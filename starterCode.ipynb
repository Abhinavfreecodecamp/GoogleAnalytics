{
 "cells": [
  {
   "cell_type": "code",
   "execution_count": 77,
   "metadata": {},
   "outputs": [],
   "source": [
    "import pandas as pd\n",
    "import json\n",
    "import os\n",
    "import time\n",
    "from pandas.io.json import json_normalize\n",
    "import matplotlib.pyplot as plt\n",
    "import numpy as np\n",
    "import lightgbm as lgb\n",
    "from sklearn.feature_selection import RFE\n",
    "from sklearn.model_selection import RandomizedSearchCV\n",
    "from sklearn.model_selection import GridSearchCV\n"
   ]
  },
  {
   "cell_type": "code",
   "execution_count": 2,
   "metadata": {
    "collapsed": true
   },
   "outputs": [],
   "source": [
    "####   Function to load data https://www.kaggle.com/ldmtwo/simple-data-loader-and-parser  ####\n",
    "####  The original function was modified to work properly according to data   ######\n",
    "def Load(file, max_rows=None, DROP=[], with_prefix=True):\n",
    "    from pandas.io.json import json_normalize\n",
    "    t0 = time.time()\n",
    "    columns = ['device', 'geoNetwork', 'totals', 'trafficSource']\n",
    "    df = pd.read_csv(file, \n",
    "                     converters={column: json.loads for column in columns}, \n",
    "                     dtype={'fullVisitorId': 'str'}, \n",
    "                     nrows=max_rows)\n",
    "    print(df.shape)\n",
    "    lst = [df]\n",
    "    for c in columns:\n",
    "        tmp = json_normalize(list(df[c].values))\n",
    "        if with_prefix: tmp.columns = [f\"{c}.{subcolumn}\" for subcolumn in tmp.columns]\n",
    "        lst.append(tmp)     \n",
    "        print('%20s  +%s'%(c,tmp.shape))\n",
    "    df = pd.concat(lst, axis=1)\n",
    "    print('->',df.shape)\n",
    "    DROP = [c for c in columns+DROP if c in df.columns]\n",
    "    df.drop(DROP, axis=1, inplace=True)\n",
    "    print('DROP %s ->'%len(DROP),df.shape)\n",
    "    print('Loaded %s in %s sec'%(file,time.time()-t0))\n",
    "    return df\n",
    "\n",
    "#feel free to check for your self (set it to [])\n",
    "useless=['device.browserSize', 'device.browserVersion', 'device.flashVersion', 'device.language', \\\n",
    "         'device.mobileDeviceBranding', 'device.mobileDeviceInfo', 'device.mobileDeviceMarketingName', \\\n",
    "         'device.mobileDeviceModel', 'device.mobileInputSelector', 'device.operatingSystemVersion', \\\n",
    "         'device.screenColors', 'device.screenResolution', 'geoNetwork.cityId', 'geoNetwork.latitude',\\\n",
    "         'geoNetwork.longitude', 'geoNetwork.networkLocation', 'socialEngagementType', 'totals.visits', \\\n",
    "         'trafficSource.adwordsClickInfo.criteriaParameters','trafficSource.campaignCode']\n",
    "\n"
   ]
  },
  {
   "cell_type": "markdown",
   "metadata": {},
   "source": [
    "#### Run Below two cells only once"
   ]
  },
  {
   "cell_type": "code",
   "execution_count": 3,
   "metadata": {},
   "outputs": [
    {
     "name": "stdout",
     "output_type": "stream",
     "text": [
      "(903653, 12)\n",
      "              device  +(903653, 16)\n",
      "          geoNetwork  +(903653, 11)\n",
      "              totals  +(903653, 6)\n",
      "       trafficSource  +(903653, 14)\n",
      "-> (903653, 59)\n",
      "DROP 24 -> (903653, 35)\n",
      "Loaded train.csv in 122.41823387145996 sec\n"
     ]
    }
   ],
   "source": [
    "train_df = Load('train.csv',DROP=useless)\n",
    "train_df.to_csv('final_train.csv')"
   ]
  },
  {
   "cell_type": "code",
   "execution_count": 17,
   "metadata": {},
   "outputs": [
    {
     "name": "stdout",
     "output_type": "stream",
     "text": [
      "(804684, 12)\n",
      "              device  +(804684, 16)\n",
      "          geoNetwork  +(804684, 11)\n",
      "              totals  +(804684, 5)\n",
      "       trafficSource  +(804684, 13)\n",
      "-> (804684, 57)\n",
      "DROP 23 -> (804684, 34)\n",
      "Loaded test.csv in 122.5051519870758 sec\n"
     ]
    }
   ],
   "source": [
    "test_df = Load('test.csv',DROP=useless)\n",
    "test_df.to_csv('final_test.csv')"
   ]
  },
  {
   "cell_type": "code",
   "execution_count": 90,
   "metadata": {},
   "outputs": [
    {
     "name": "stderr",
     "output_type": "stream",
     "text": [
      "E:\\anaconda\\lib\\site-packages\\IPython\\core\\interactiveshell.py:2698: DtypeWarning: Columns (3) have mixed types. Specify dtype option on import or set low_memory=False.\n",
      "  interactivity=interactivity, compiler=compiler, result=result)\n"
     ]
    }
   ],
   "source": [
    "train_df = pd.read_csv('final_train.csv',encoding='ISO-8859-1')\n",
    "test_df = pd.read_csv('final_test.csv',encoding='ISO-8859-1')"
   ]
  },
  {
   "cell_type": "code",
   "execution_count": 4,
   "metadata": {},
   "outputs": [
    {
     "data": {
      "text/plain": [
       "Index(['channelGrouping', 'date', 'fullVisitorId', 'sessionId', 'visitId',\n",
       "       'visitNumber', 'visitStartTime', 'device.browser',\n",
       "       'device.deviceCategory', 'device.isMobile', 'device.operatingSystem',\n",
       "       'geoNetwork.city', 'geoNetwork.continent', 'geoNetwork.country',\n",
       "       'geoNetwork.metro', 'geoNetwork.networkDomain', 'geoNetwork.region',\n",
       "       'geoNetwork.subContinent', 'totals.bounces', 'totals.hits',\n",
       "       'totals.newVisits', 'totals.pageviews', 'totals.transactionRevenue',\n",
       "       'trafficSource.adContent',\n",
       "       'trafficSource.adwordsClickInfo.adNetworkType',\n",
       "       'trafficSource.adwordsClickInfo.gclId',\n",
       "       'trafficSource.adwordsClickInfo.isVideoAd',\n",
       "       'trafficSource.adwordsClickInfo.page',\n",
       "       'trafficSource.adwordsClickInfo.slot', 'trafficSource.campaign',\n",
       "       'trafficSource.isTrueDirect', 'trafficSource.keyword',\n",
       "       'trafficSource.medium', 'trafficSource.referralPath',\n",
       "       'trafficSource.source'],\n",
       "      dtype='object')"
      ]
     },
     "execution_count": 4,
     "metadata": {},
     "output_type": "execute_result"
    }
   ],
   "source": [
    "train_df.columns"
   ]
  },
  {
   "cell_type": "code",
   "execution_count": 34,
   "metadata": {},
   "outputs": [
    {
     "data": {
      "text/plain": [
       "count                            903653\n",
       "unique                              376\n",
       "top       not available in demo dataset\n",
       "freq                             508229\n",
       "Name: geoNetwork.region, dtype: object"
      ]
     },
     "execution_count": 34,
     "metadata": {},
     "output_type": "execute_result"
    }
   ],
   "source": [
    "train_df['geoNetwork.region'].describe()"
   ]
  },
  {
   "cell_type": "code",
   "execution_count": 6,
   "metadata": {
    "collapsed": true
   },
   "outputs": [],
   "source": [
    "train_df['totals.transactionRevenue'].fillna(value=0,inplace=True)"
   ]
  },
  {
   "cell_type": "code",
   "execution_count": 7,
   "metadata": {
    "collapsed": true,
    "scrolled": true
   },
   "outputs": [],
   "source": [
    "train_df['totals.transactionRevenue']=train_df['totals.transactionRevenue'].astype('int64')"
   ]
  },
  {
   "cell_type": "code",
   "execution_count": 79,
   "metadata": {},
   "outputs": [
    {
     "data": {
      "text/plain": [
       "count    9.036530e+05\n",
       "mean     1.704273e+06\n",
       "std      5.277866e+07\n",
       "min      0.000000e+00\n",
       "25%      0.000000e+00\n",
       "50%      0.000000e+00\n",
       "75%      0.000000e+00\n",
       "90%      0.000000e+00\n",
       "max      2.312950e+10\n",
       "Name: totals.transactionRevenue, dtype: float64"
      ]
     },
     "execution_count": 79,
     "metadata": {},
     "output_type": "execute_result"
    }
   ],
   "source": [
    "train_df['totals.transactionRevenue'].describe([.25,.50,.75,.90])"
   ]
  },
  {
   "cell_type": "code",
   "execution_count": 10,
   "metadata": {},
   "outputs": [
    {
     "data": {
      "text/plain": [
       "0    0\n",
       "1    0\n",
       "2    0\n",
       "3    0\n",
       "4    0\n",
       "Name: totals.transactionRevenue, dtype: object"
      ]
     },
     "execution_count": 10,
     "metadata": {},
     "output_type": "execute_result"
    }
   ],
   "source": [
    "train_df['totals.transactionRevenue'].head()"
   ]
  },
  {
   "cell_type": "code",
   "execution_count": 8,
   "metadata": {
    "scrolled": false
   },
   "outputs": [
    {
     "data": {
      "text/html": [
       "<div>\n",
       "<style>\n",
       "    .dataframe thead tr:only-child th {\n",
       "        text-align: right;\n",
       "    }\n",
       "\n",
       "    .dataframe thead th {\n",
       "        text-align: left;\n",
       "    }\n",
       "\n",
       "    .dataframe tbody tr th {\n",
       "        vertical-align: top;\n",
       "    }\n",
       "</style>\n",
       "<table border=\"1\" class=\"dataframe\">\n",
       "  <thead>\n",
       "    <tr style=\"text-align: right;\">\n",
       "      <th></th>\n",
       "      <th>Unnamed: 0</th>\n",
       "      <th>channelGrouping</th>\n",
       "      <th>date</th>\n",
       "      <th>fullVisitorId</th>\n",
       "      <th>sessionId</th>\n",
       "      <th>visitId</th>\n",
       "      <th>visitNumber</th>\n",
       "      <th>visitStartTime</th>\n",
       "      <th>device.browser</th>\n",
       "      <th>device.deviceCategory</th>\n",
       "      <th>...</th>\n",
       "      <th>trafficSource.adwordsClickInfo.gclId</th>\n",
       "      <th>trafficSource.adwordsClickInfo.isVideoAd</th>\n",
       "      <th>trafficSource.adwordsClickInfo.page</th>\n",
       "      <th>trafficSource.adwordsClickInfo.slot</th>\n",
       "      <th>trafficSource.campaign</th>\n",
       "      <th>trafficSource.isTrueDirect</th>\n",
       "      <th>trafficSource.keyword</th>\n",
       "      <th>trafficSource.medium</th>\n",
       "      <th>trafficSource.referralPath</th>\n",
       "      <th>trafficSource.source</th>\n",
       "    </tr>\n",
       "  </thead>\n",
       "  <tbody>\n",
       "    <tr>\n",
       "      <th>0</th>\n",
       "      <td>0</td>\n",
       "      <td>Organic Search</td>\n",
       "      <td>20160902</td>\n",
       "      <td>1131660440785968503</td>\n",
       "      <td>1131660440785968503_1472830385</td>\n",
       "      <td>1472830385</td>\n",
       "      <td>1</td>\n",
       "      <td>1472830385</td>\n",
       "      <td>Chrome</td>\n",
       "      <td>desktop</td>\n",
       "      <td>...</td>\n",
       "      <td>NaN</td>\n",
       "      <td>NaN</td>\n",
       "      <td>NaN</td>\n",
       "      <td>NaN</td>\n",
       "      <td>(not set)</td>\n",
       "      <td>NaN</td>\n",
       "      <td>(not provided)</td>\n",
       "      <td>organic</td>\n",
       "      <td>NaN</td>\n",
       "      <td>google</td>\n",
       "    </tr>\n",
       "    <tr>\n",
       "      <th>1</th>\n",
       "      <td>1</td>\n",
       "      <td>Organic Search</td>\n",
       "      <td>20160902</td>\n",
       "      <td>377306020877927890</td>\n",
       "      <td>377306020877927890_1472880147</td>\n",
       "      <td>1472880147</td>\n",
       "      <td>1</td>\n",
       "      <td>1472880147</td>\n",
       "      <td>Firefox</td>\n",
       "      <td>desktop</td>\n",
       "      <td>...</td>\n",
       "      <td>NaN</td>\n",
       "      <td>NaN</td>\n",
       "      <td>NaN</td>\n",
       "      <td>NaN</td>\n",
       "      <td>(not set)</td>\n",
       "      <td>NaN</td>\n",
       "      <td>(not provided)</td>\n",
       "      <td>organic</td>\n",
       "      <td>NaN</td>\n",
       "      <td>google</td>\n",
       "    </tr>\n",
       "    <tr>\n",
       "      <th>2</th>\n",
       "      <td>2</td>\n",
       "      <td>Organic Search</td>\n",
       "      <td>20160902</td>\n",
       "      <td>3895546263509774583</td>\n",
       "      <td>3895546263509774583_1472865386</td>\n",
       "      <td>1472865386</td>\n",
       "      <td>1</td>\n",
       "      <td>1472865386</td>\n",
       "      <td>Chrome</td>\n",
       "      <td>desktop</td>\n",
       "      <td>...</td>\n",
       "      <td>NaN</td>\n",
       "      <td>NaN</td>\n",
       "      <td>NaN</td>\n",
       "      <td>NaN</td>\n",
       "      <td>(not set)</td>\n",
       "      <td>NaN</td>\n",
       "      <td>(not provided)</td>\n",
       "      <td>organic</td>\n",
       "      <td>NaN</td>\n",
       "      <td>google</td>\n",
       "    </tr>\n",
       "    <tr>\n",
       "      <th>3</th>\n",
       "      <td>3</td>\n",
       "      <td>Organic Search</td>\n",
       "      <td>20160902</td>\n",
       "      <td>4763447161404445595</td>\n",
       "      <td>4763447161404445595_1472881213</td>\n",
       "      <td>1472881213</td>\n",
       "      <td>1</td>\n",
       "      <td>1472881213</td>\n",
       "      <td>UC Browser</td>\n",
       "      <td>desktop</td>\n",
       "      <td>...</td>\n",
       "      <td>NaN</td>\n",
       "      <td>NaN</td>\n",
       "      <td>NaN</td>\n",
       "      <td>NaN</td>\n",
       "      <td>(not set)</td>\n",
       "      <td>NaN</td>\n",
       "      <td>google + online</td>\n",
       "      <td>organic</td>\n",
       "      <td>NaN</td>\n",
       "      <td>google</td>\n",
       "    </tr>\n",
       "    <tr>\n",
       "      <th>4</th>\n",
       "      <td>4</td>\n",
       "      <td>Organic Search</td>\n",
       "      <td>20160902</td>\n",
       "      <td>27294437909732085</td>\n",
       "      <td>27294437909732085_1472822600</td>\n",
       "      <td>1472822600</td>\n",
       "      <td>2</td>\n",
       "      <td>1472822600</td>\n",
       "      <td>Chrome</td>\n",
       "      <td>mobile</td>\n",
       "      <td>...</td>\n",
       "      <td>NaN</td>\n",
       "      <td>NaN</td>\n",
       "      <td>NaN</td>\n",
       "      <td>NaN</td>\n",
       "      <td>(not set)</td>\n",
       "      <td>True</td>\n",
       "      <td>(not provided)</td>\n",
       "      <td>organic</td>\n",
       "      <td>NaN</td>\n",
       "      <td>google</td>\n",
       "    </tr>\n",
       "  </tbody>\n",
       "</table>\n",
       "<p>5 rows × 36 columns</p>\n",
       "</div>"
      ],
      "text/plain": [
       "   Unnamed: 0 channelGrouping      date        fullVisitorId  \\\n",
       "0           0  Organic Search  20160902  1131660440785968503   \n",
       "1           1  Organic Search  20160902   377306020877927890   \n",
       "2           2  Organic Search  20160902  3895546263509774583   \n",
       "3           3  Organic Search  20160902  4763447161404445595   \n",
       "4           4  Organic Search  20160902    27294437909732085   \n",
       "\n",
       "                        sessionId     visitId  visitNumber  visitStartTime  \\\n",
       "0  1131660440785968503_1472830385  1472830385            1      1472830385   \n",
       "1   377306020877927890_1472880147  1472880147            1      1472880147   \n",
       "2  3895546263509774583_1472865386  1472865386            1      1472865386   \n",
       "3  4763447161404445595_1472881213  1472881213            1      1472881213   \n",
       "4    27294437909732085_1472822600  1472822600            2      1472822600   \n",
       "\n",
       "  device.browser device.deviceCategory          ...           \\\n",
       "0         Chrome               desktop          ...            \n",
       "1        Firefox               desktop          ...            \n",
       "2         Chrome               desktop          ...            \n",
       "3     UC Browser               desktop          ...            \n",
       "4         Chrome                mobile          ...            \n",
       "\n",
       "   trafficSource.adwordsClickInfo.gclId  \\\n",
       "0                                   NaN   \n",
       "1                                   NaN   \n",
       "2                                   NaN   \n",
       "3                                   NaN   \n",
       "4                                   NaN   \n",
       "\n",
       "  trafficSource.adwordsClickInfo.isVideoAd  \\\n",
       "0                                      NaN   \n",
       "1                                      NaN   \n",
       "2                                      NaN   \n",
       "3                                      NaN   \n",
       "4                                      NaN   \n",
       "\n",
       "  trafficSource.adwordsClickInfo.page trafficSource.adwordsClickInfo.slot  \\\n",
       "0                                 NaN                                 NaN   \n",
       "1                                 NaN                                 NaN   \n",
       "2                                 NaN                                 NaN   \n",
       "3                                 NaN                                 NaN   \n",
       "4                                 NaN                                 NaN   \n",
       "\n",
       "  trafficSource.campaign trafficSource.isTrueDirect trafficSource.keyword  \\\n",
       "0              (not set)                        NaN        (not provided)   \n",
       "1              (not set)                        NaN        (not provided)   \n",
       "2              (not set)                        NaN        (not provided)   \n",
       "3              (not set)                        NaN       google + online   \n",
       "4              (not set)                       True        (not provided)   \n",
       "\n",
       "  trafficSource.medium trafficSource.referralPath  trafficSource.source  \n",
       "0              organic                        NaN                google  \n",
       "1              organic                        NaN                google  \n",
       "2              organic                        NaN                google  \n",
       "3              organic                        NaN                google  \n",
       "4              organic                        NaN                google  \n",
       "\n",
       "[5 rows x 36 columns]"
      ]
     },
     "execution_count": 8,
     "metadata": {},
     "output_type": "execute_result"
    }
   ],
   "source": [
    "train_df.head()"
   ]
  },
  {
   "cell_type": "markdown",
   "metadata": {},
   "source": [
    "## EDA"
   ]
  },
  {
   "cell_type": "markdown",
   "metadata": {},
   "source": [
    "#### Channel through which users are comming "
   ]
  },
  {
   "cell_type": "code",
   "execution_count": 16,
   "metadata": {
    "scrolled": true
   },
   "outputs": [
    {
     "data": {
      "image/png": "[encoded data removed]",
      "text/plain": [
       "<matplotlib.figure.Figure at 0x19277b048>"
      ]
     },
     "metadata": {},
     "output_type": "display_data"
    }
   ],
   "source": [
    "train_df['channelGrouping'].value_counts().plot(kind='bar')\n",
    "plt.show()"
   ]
  },
  {
   "cell_type": "markdown",
   "metadata": {},
   "source": [
    "#### Traffic medium"
   ]
  },
  {
   "cell_type": "code",
   "execution_count": 84,
   "metadata": {},
   "outputs": [
    {
     "data": {
      "image/png": "[encoded data removed]",
      "text/plain": [
       "<matplotlib.figure.Figure at 0x1914000f0>"
      ]
     },
     "metadata": {},
     "output_type": "display_data"
    }
   ],
   "source": [
    "train_df['trafficSource.medium'].value_counts().plot(kind='bar',figsize=(12,5))\n",
    "plt.show()\n"
   ]
  },
  {
   "cell_type": "markdown",
   "metadata": {},
   "source": [
    "#### Browser through which users are comming"
   ]
  },
  {
   "cell_type": "code",
   "execution_count": 26,
   "metadata": {
    "scrolled": false
   },
   "outputs": [
    {
     "data": {
      "image/png": "[encoded data removed]",
      "text/plain": [
       "<matplotlib.figure.Figure at 0x191989630>"
      ]
     },
     "metadata": {},
     "output_type": "display_data"
    }
   ],
   "source": [
    "train_df['device.browser'].value_counts().plot(kind='bar',figsize=(12,5))\n",
    "plt.show()"
   ]
  },
  {
   "cell_type": "markdown",
   "metadata": {},
   "source": [
    "#### revenue users are making \n",
    "As most of the users gone without buying stuff you can see most values are zero"
   ]
  },
  {
   "cell_type": "code",
   "execution_count": 81,
   "metadata": {
    "scrolled": false
   },
   "outputs": [
    {
     "data": {
      "image/png": "[encoded data removed]",
      "text/plain": [
       "<matplotlib.figure.Figure at 0x1915892b0>"
      ]
     },
     "metadata": {},
     "output_type": "display_data"
    }
   ],
   "source": [
    "train_df['totals.transactionRevenue'].value_counts().plot(kind='kde',figsize=(12,7))\n",
    "plt.show()"
   ]
  },
  {
   "cell_type": "markdown",
   "metadata": {},
   "source": [
    "#### Most used devices for accessing gstore"
   ]
  },
  {
   "cell_type": "code",
   "execution_count": 39,
   "metadata": {
    "scrolled": true
   },
   "outputs": [
    {
     "data": {
      "image/png": "[encoded data removed]",
      "text/plain": [
       "<matplotlib.figure.Figure at 0x1908d0b70>"
      ]
     },
     "metadata": {},
     "output_type": "display_data"
    }
   ],
   "source": [
    "train_df['device.deviceCategory'].value_counts().plot(kind='bar',figsize=(6,5))\n",
    "plt.show()\n"
   ]
  },
  {
   "cell_type": "markdown",
   "metadata": {},
   "source": [
    "#### Continents accessing gstore"
   ]
  },
  {
   "cell_type": "code",
   "execution_count": 43,
   "metadata": {
    "scrolled": false
   },
   "outputs": [
    {
     "data": {
      "image/png": "[encoded data removed]",
      "text/plain": [
       "<matplotlib.figure.Figure at 0x1912a9a58>"
      ]
     },
     "metadata": {},
     "output_type": "display_data"
    }
   ],
   "source": [
    "train_df['geoNetwork.continent'].value_counts().plot(kind='bar',figsize=(6,5))\n",
    "plt.show()\n",
    "\n"
   ]
  },
  {
   "cell_type": "markdown",
   "metadata": {},
   "source": [
    "### Subcontinents"
   ]
  },
  {
   "cell_type": "code",
   "execution_count": 45,
   "metadata": {
    "scrolled": true
   },
   "outputs": [
    {
     "data": {
      "image/png": "[encoded data removed]",
      "text/plain": [
       "<matplotlib.figure.Figure at 0x215d0278>"
      ]
     },
     "metadata": {},
     "output_type": "display_data"
    }
   ],
   "source": [
    "train_df['geoNetwork.subContinent'].value_counts().plot(kind='bar',figsize=(6,5))\n",
    "plt.show()\n"
   ]
  },
  {
   "cell_type": "code",
   "execution_count": 52,
   "metadata": {},
   "outputs": [
    {
     "data": {
      "text/plain": [
       "Index(['Unnamed: 0', 'channelGrouping', 'date', 'fullVisitorId', 'sessionId',\n",
       "       'visitId', 'visitNumber', 'visitStartTime', 'device.browser',\n",
       "       'device.deviceCategory', 'device.isMobile', 'device.operatingSystem',\n",
       "       'geoNetwork.city', 'geoNetwork.continent', 'geoNetwork.country',\n",
       "       'geoNetwork.metro', 'geoNetwork.networkDomain', 'geoNetwork.region',\n",
       "       'geoNetwork.subContinent', 'totals.bounces', 'totals.hits',\n",
       "       'totals.newVisits', 'totals.pageviews', 'totals.transactionRevenue',\n",
       "       'trafficSource.adContent',\n",
       "       'trafficSource.adwordsClickInfo.adNetworkType',\n",
       "       'trafficSource.adwordsClickInfo.gclId',\n",
       "       'trafficSource.adwordsClickInfo.isVideoAd',\n",
       "       'trafficSource.adwordsClickInfo.page',\n",
       "       'trafficSource.adwordsClickInfo.slot', 'trafficSource.campaign',\n",
       "       'trafficSource.isTrueDirect', 'trafficSource.keyword',\n",
       "       'trafficSource.medium', 'trafficSource.referralPath',\n",
       "       'trafficSource.source'],\n",
       "      dtype='object')"
      ]
     },
     "execution_count": 52,
     "metadata": {},
     "output_type": "execute_result"
    }
   ],
   "source": [
    "train_df.columns"
   ]
  },
  {
   "cell_type": "code",
   "execution_count": 92,
   "metadata": {},
   "outputs": [
    {
     "data": {
      "text/plain": [
       "Index(['Unnamed: 0', 'channelGrouping', 'date', 'fullVisitorId', 'sessionId',\n",
       "       'visitId', 'visitNumber', 'visitStartTime', 'device.browser',\n",
       "       'device.deviceCategory', 'device.isMobile', 'device.operatingSystem',\n",
       "       'geoNetwork.city', 'geoNetwork.continent', 'geoNetwork.country',\n",
       "       'geoNetwork.metro', 'geoNetwork.networkDomain', 'geoNetwork.region',\n",
       "       'geoNetwork.subContinent', 'totals.bounces', 'totals.hits',\n",
       "       'totals.newVisits', 'totals.pageviews', 'trafficSource.adContent',\n",
       "       'trafficSource.adwordsClickInfo.adNetworkType',\n",
       "       'trafficSource.adwordsClickInfo.gclId',\n",
       "       'trafficSource.adwordsClickInfo.isVideoAd',\n",
       "       'trafficSource.adwordsClickInfo.page',\n",
       "       'trafficSource.adwordsClickInfo.slot', 'trafficSource.campaign',\n",
       "       'trafficSource.isTrueDirect', 'trafficSource.keyword',\n",
       "       'trafficSource.medium', 'trafficSource.referralPath',\n",
       "       'trafficSource.source'],\n",
       "      dtype='object')"
      ]
     },
     "execution_count": 92,
     "metadata": {},
     "output_type": "execute_result"
    }
   ],
   "source": [
    "test_df.columns"
   ]
  },
  {
   "cell_type": "markdown",
   "metadata": {},
   "source": [
    "## Predicting user transactional revenue"
   ]
  },
  {
   "cell_type": "code",
   "execution_count": 91,
   "metadata": {
    "scrolled": true
   },
   "outputs": [],
   "source": [
    "numeric_cols = ['totals.hits','totals.pageviews','visitNumber','totals.newVisits','totals.bounces','totals.transactionRevenue']\n",
    "#object cols\n",
    "rest_cols = list(train_df.select_dtypes(include=['object', 'bool']).columns)\n",
    "\n",
    "train_df[numeric_cols] = train_df[numeric_cols].fillna(0)\n",
    "for col in numeric_cols:\n",
    "    train_df[col] = train_df[col].astype('float')\n",
    "                        \n",
    "# transfer object columns as category cols\n",
    "for col in rest_cols:\n",
    "    train_df[col] =  train_df[col].astype('category').cat.codes"
   ]
  },
  {
   "cell_type": "code",
   "execution_count": 88,
   "metadata": {
    "collapsed": true
   },
   "outputs": [],
   "source": [
    "numeric_cols_test = ['totals.hits','totals.pageviews','visitNumber','totals.newVisits','totals.bounces']\n",
    "test_df[numeric_cols_test] = test_df[numeric_cols_test].fillna(0)\n",
    "for col in numeric_cols_test:\n",
    "    test_df[col] = test_df[col].astype('float')\n",
    "                        \n",
    "# transfer object columns as category cols\n",
    "for col in rest_cols:\n",
    "    test_df[col] =  test_df[col].astype('category').cat.codes"
   ]
  },
  {
   "cell_type": "code",
   "execution_count": 101,
   "metadata": {},
   "outputs": [
    {
     "data": {
      "text/plain": [
       "0    0.0\n",
       "1    0.0\n",
       "2    0.0\n",
       "3    0.0\n",
       "4    0.0\n",
       "Name: totals.transactionRevenue, dtype: float64"
      ]
     },
     "execution_count": 101,
     "metadata": {},
     "output_type": "execute_result"
    }
   ],
   "source": [
    "y = pd.DataFrame(columns=['totals.transactionRevenue'])\n",
    "y[] = train_df['totals.transactionRevenue']\n",
    "y.head()"
   ]
  },
  {
   "cell_type": "code",
   "execution_count": 102,
   "metadata": {
    "scrolled": true
   },
   "outputs": [],
   "source": [
    "# split train and target variables\n",
    "y = pd.DataFrame(columns=['totals.transactionRevenue'])\n",
    "y['totals.transactionRevenue'] = train_df['totals.transactionRevenue']\n",
    "y_train = y['totals.transactionRevenue'][0:722922]\n",
    "y_cv = y['totals.transactionRevenue'][722922:]\n",
    "train_df = train_df.drop('totals.transactionRevenue', axis=1)\n",
    "train = train_df[0:722922]\n",
    "cv = train_df[722922:]"
   ]
  },
  {
   "cell_type": "code",
   "execution_count": 110,
   "metadata": {},
   "outputs": [
    {
     "name": "stderr",
     "output_type": "stream",
     "text": [
      "E:\\anaconda\\lib\\site-packages\\lightgbm\\engine.py:113: UserWarning: Found `num_trees` in params. Will use it instead of argument\n",
      "  warnings.warn(\"Found `{}` in params. Will use it instead of argument\".format(alias))\n",
      "E:\\anaconda\\lib\\site-packages\\lightgbm\\engine.py:113: UserWarning: Found `num_trees` in params. Will use it instead of argument\n",
      "  warnings.warn(\"Found `{}` in params. Will use it instead of argument\".format(alias))\n",
      "E:\\anaconda\\lib\\site-packages\\lightgbm\\engine.py:113: UserWarning: Found `num_trees` in params. Will use it instead of argument\n",
      "  warnings.warn(\"Found `{}` in params. Will use it instead of argument\".format(alias))\n",
      "E:\\anaconda\\lib\\site-packages\\lightgbm\\engine.py:113: UserWarning: Found `num_trees` in params. Will use it instead of argument\n",
      "  warnings.warn(\"Found `{}` in params. Will use it instead of argument\".format(alias))\n",
      "E:\\anaconda\\lib\\site-packages\\lightgbm\\engine.py:113: UserWarning: Found `num_trees` in params. Will use it instead of argument\n",
      "  warnings.warn(\"Found `{}` in params. Will use it instead of argument\".format(alias))\n",
      "E:\\anaconda\\lib\\site-packages\\lightgbm\\engine.py:113: UserWarning: Found `num_trees` in params. Will use it instead of argument\n",
      "  warnings.warn(\"Found `{}` in params. Will use it instead of argument\".format(alias))\n",
      "E:\\anaconda\\lib\\site-packages\\lightgbm\\engine.py:113: UserWarning: Found `num_trees` in params. Will use it instead of argument\n",
      "  warnings.warn(\"Found `{}` in params. Will use it instead of argument\".format(alias))\n",
      "E:\\anaconda\\lib\\site-packages\\lightgbm\\engine.py:113: UserWarning: Found `num_trees` in params. Will use it instead of argument\n",
      "  warnings.warn(\"Found `{}` in params. Will use it instead of argument\".format(alias))\n",
      "E:\\anaconda\\lib\\site-packages\\lightgbm\\engine.py:113: UserWarning: Found `num_trees` in params. Will use it instead of argument\n",
      "  warnings.warn(\"Found `{}` in params. Will use it instead of argument\".format(alias))\n",
      "E:\\anaconda\\lib\\site-packages\\lightgbm\\engine.py:113: UserWarning: Found `num_trees` in params. Will use it instead of argument\n",
      "  warnings.warn(\"Found `{}` in params. Will use it instead of argument\".format(alias))\n",
      "E:\\anaconda\\lib\\site-packages\\lightgbm\\engine.py:113: UserWarning: Found `num_trees` in params. Will use it instead of argument\n",
      "  warnings.warn(\"Found `{}` in params. Will use it instead of argument\".format(alias))\n"
     ]
    },
    {
     "data": {
      "text/plain": [
       "GridSearchCV(cv=10, error_score='raise',\n",
       "       estimator=LGBMRegressor(boosting_type='gbdt', class_weight=None, colsample_bytree=1.0,\n",
       "       importance_type='split', learning_rate=0.1, max_depth=-1,\n",
       "       min_child_samples=20, min_child_weight=0.001, min_split_gain=0.0,\n",
       "       n_estimators=100, n_jobs=-1, num_leaves=31, objective=None,\n",
       "       random_state=None, reg_alpha=0.0, reg_lambda=0.0, silent=True,\n",
       "       subsample=1.0, subsample_for_bin=200000, subsample_freq=0),\n",
       "       fit_params=None, iid=True, n_jobs=1,\n",
       "       param_grid={'learning_rate': [0.001], 'num_leaves': [150], 'num_trees': [500], 'num_threads': [16], 'min_data_in_leaf': [0], 'min_sum_hessian_in_leaf': [100]},\n",
       "       pre_dispatch='2*n_jobs', refit=True, return_train_score='warn',\n",
       "       scoring='neg_mean_squared_error', verbose=0)"
      ]
     },
     "execution_count": 110,
     "metadata": {},
     "output_type": "execute_result"
    }
   ],
   "source": [
    "params={'learning_rate' :[0.001],\n",
    "'num_leaves' :[150],\n",
    "'num_trees' : [500],\n",
    "'num_threads':[16],\n",
    "'min_data_in_leaf':[0],\n",
    "'min_sum_hessian_in_leaf':[100]}\n",
    "\n",
    "gbm = lgb.LGBMRegressor()\n",
    "#gbm.fit(train_df, target_df)\n",
    "model = GridSearchCV(gbm, params, scoring = 'neg_mean_squared_error', cv=10)\n",
    "model.fit(train,y_train)"
   ]
  },
  {
   "cell_type": "code",
   "execution_count": 112,
   "metadata": {},
   "outputs": [
    {
     "name": "stdout",
     "output_type": "stream",
     "text": [
      "2530382373960394.5\n"
     ]
    }
   ],
   "source": [
    "from sklearn.metrics import mean_squared_error\n",
    "y_pred = model.predict(cv)\n",
    "print(mean_squared_error(y_cv,y_pred))"
   ]
  },
  {
   "cell_type": "code",
   "execution_count": null,
   "metadata": {
    "collapsed": true
   },
   "outputs": [],
   "source": []
  }
 ],
 "metadata": {
  "kernelspec": {
   "display_name": "Python 3",
   "language": "python",
   "name": "python3"
  },
  "language_info": {
   "codemirror_mode": {
    "name": "ipython",
    "version": 3
   },
   "file_extension": ".py",
   "mimetype": "text/x-python",
   "name": "python",
   "nbconvert_exporter": "python",
   "pygments_lexer": "ipython3",
   "version": "3.6.3"
  }
 },
 "nbformat": 4,
 "nbformat_minor": 2
}
